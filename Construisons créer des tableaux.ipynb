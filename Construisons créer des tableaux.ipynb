{
 "cells": [
  {
   "cell_type": "code",
   "execution_count": 7,
   "id": "9fbaa54a",
   "metadata": {},
   "outputs": [
    {
     "name": "stdout",
     "output_type": "stream",
     "text": [
      "[[1, 2, 3], [4, 5, 6]]\n"
     ]
    }
   ],
   "source": [
    "# question 1\n",
    "import numpy as np\n",
    "new_array=np.array([[1,2,3],[4,5,6]])\n",
    "new_array=new_array.tolist()\n",
    "print(new_array)"
   ]
  },
  {
   "cell_type": "code",
   "execution_count": 10,
   "id": "e90e7584",
   "metadata": {},
   "outputs": [
    {
     "name": "stdout",
     "output_type": "stream",
     "text": [
      "6\n"
     ]
    }
   ],
   "source": [
    "# question 2\n",
    "import numpy as np\n",
    "new_array=np.array([[1,2,3],[4,5,6]])\n",
    "valeur=np.trace(np.new_array)\n",
    "print(valeur)"
   ]
  },
  {
   "cell_type": "code",
   "execution_count": 22,
   "id": "7e7f69ab",
   "metadata": {},
   "outputs": [
    {
     "name": "stdout",
     "output_type": "stream",
     "text": [
      "[3 4 5 6]\n"
     ]
    }
   ],
   "source": [
    "# question 3\n",
    "import numpy as np\n",
    "new_array=np.array([[1,2,3],[4,5,6]])\n",
    "x = 2\n",
    "print(new_array[new_array>x])"
   ]
  },
  {
   "cell_type": "code",
   "execution_count": 18,
   "id": "7e19a194",
   "metadata": {},
   "outputs": [
    {
     "name": "stdout",
     "output_type": "stream",
     "text": [
      "[[ 5  7 12]\n",
      " [10 10 14]]\n"
     ]
    }
   ],
   "source": [
    "# question 4\n",
    "import numpy as np\n",
    "a=np.array([[1,2,3],[4,5,6]])\n",
    "b=np.array([[4,5,9],[6,5,8]])\n",
    "c=a+b\n",
    "print(c)"
   ]
  },
  {
   "cell_type": "code",
   "execution_count": 19,
   "id": "b8e4c02a",
   "metadata": {},
   "outputs": [
    {
     "name": "stdout",
     "output_type": "stream",
     "text": [
      "3.5\n"
     ]
    }
   ],
   "source": [
    "# question 5\n",
    "import numpy as np\n",
    "new_array=np.array([[1,2,3],[4,5,6]])\n",
    "moyen=np.mean(new_array)\n",
    "print(moyen)"
   ]
  },
  {
   "cell_type": "code",
   "execution_count": null,
   "id": "7e503a15",
   "metadata": {},
   "outputs": [],
   "source": []
  }
 ],
 "metadata": {
  "kernelspec": {
   "display_name": "Python 3 (ipykernel)",
   "language": "python",
   "name": "python3"
  },
  "language_info": {
   "codemirror_mode": {
    "name": "ipython",
    "version": 3
   },
   "file_extension": ".py",
   "mimetype": "text/x-python",
   "name": "python",
   "nbconvert_exporter": "python",
   "pygments_lexer": "ipython3",
   "version": "3.9.7"
  }
 },
 "nbformat": 4,
 "nbformat_minor": 5
}
